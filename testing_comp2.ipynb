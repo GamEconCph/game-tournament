{
 "cells": [
  {
   "cell_type": "markdown",
   "metadata": {},
   "source": [
    "# Repeated Bertrand, test notebook"
   ]
  },
  {
   "cell_type": "code",
   "execution_count": null,
   "metadata": {},
   "outputs": [],
   "source": [
    "# %cd game_tournament"
   ]
  },
  {
   "cell_type": "code",
   "execution_count": 2,
   "metadata": {},
   "outputs": [],
   "source": [
    "from scipy.optimize import minimize, fsolve"
   ]
  },
  {
   "cell_type": "code",
   "execution_count": 3,
   "metadata": {},
   "outputs": [],
   "source": [
    "from game_tournament.game import RepeatedBertrandGame, Tournament\n",
    "import numpy as np \n",
    "import matplotlib.pyplot as plt \n",
    "import pandas as pd "
   ]
  },
  {
   "cell_type": "markdown",
   "metadata": {},
   "source": [
    "## Cournot demand"
   ]
  },
  {
   "cell_type": "code",
   "execution_count": 4,
   "metadata": {},
   "outputs": [],
   "source": [
    "def demand_function(p1, p2, i): \n",
    "    u1 = np.exp(1.-1.0*p1)\n",
    "    u2 = np.exp(1.-1.0*p2)\n",
    "    u0 = 1.0 \n",
    "    \n",
    "    denom = u0 + u1 + u2\n",
    "    \n",
    "    if i == 0: \n",
    "        return u1/denom \n",
    "    elif i == 1: \n",
    "        return u2/denom\n",
    "    else: \n",
    "        raise Exception(f'Cannot return demand for player i={i}: must be 0 or 1.')"
   ]
  },
  {
   "cell_type": "code",
   "execution_count": 5,
   "metadata": {},
   "outputs": [
    {
     "data": {
      "text/plain": [
       "0.045278500743629074"
      ]
     },
     "execution_count": 5,
     "metadata": {},
     "output_type": "execute_result"
    }
   ],
   "source": [
    "demand_function(4., 4., 1)"
   ]
  },
  {
   "cell_type": "markdown",
   "metadata": {},
   "source": [
    "## Working analytically \n",
    "\n",
    "Just to get a feel for the demand function, let's write some code that performs best responses. To do this, we want to solve $BR_i(p_j) \\equiv \\arg \\max_{p_i} \\pi_i (p_i, p_j)$. We do this using `scipy.optimize.minimize`, so since it minimizes (rather than maximizes), we remember to multiply by `-1`.  "
   ]
  },
  {
   "cell_type": "code",
   "execution_count": 6,
   "metadata": {},
   "outputs": [],
   "source": [
    "c = 0.5\n",
    "pmin = c\n",
    "pmax = 10.\n",
    "def BR(pj, i): \n",
    "    if i == 0: \n",
    "        f = lambda p : -1.0 * demand_function(p, pj, i) * (p-c)\n",
    "    elif i == 1: \n",
    "        f = lambda p : -1.0 * demand_function(pj, p, i) * (p-c)\n",
    "    else: \n",
    "        raise Exception('i must be 0 or 1 ')\n",
    "\n",
    "    res = minimize(f, pj, bounds=[(pmin, pmax)])\n",
    "    pi = res.x[0]\n",
    "    \n",
    "    return pi \n"
   ]
  },
  {
   "cell_type": "markdown",
   "metadata": {},
   "source": [
    "We can relatively quickly  evaluate the $BR$ functions over the range, `[pmin; pmax]` and plot the funcitons together. "
   ]
  },
  {
   "cell_type": "code",
   "execution_count": 7,
   "metadata": {},
   "outputs": [
    {
     "data": {
      "image/png": "[encoded data removed]",
      "text/plain": [
       "<Figure size 432x288 with 1 Axes>"
      ]
     },
     "metadata": {
      "needs_background": "light"
     },
     "output_type": "display_data"
    }
   ],
   "source": [
    "pp = np.linspace(pmin, pmax, 100)\n",
    "pp1 = np.empty((100,))\n",
    "pp2 = np.empty((100,))\n",
    "for i,p in enumerate(pp): \n",
    "    pp1[i] = BR(p, 0)\n",
    "    pp2[i] = BR(p, 1)\n",
    "    \n",
    "plt.plot(pp1, pp, label='Player 1');\n",
    "plt.plot(pp, pp2, label='Player 2');"
   ]
  },
  {
   "cell_type": "markdown",
   "metadata": {},
   "source": [
    "If we wanted to, we can try to solve for the system of best response equations that define the pure strategy Nash-equilibrium of the game. "
   ]
  },
  {
   "cell_type": "code",
   "execution_count": 8,
   "metadata": {},
   "outputs": [],
   "source": [
    "def eq_fun(p): \n",
    "    P = np.empty((2,))\n",
    "    for i in range(2): \n",
    "        j = 1-i\n",
    "        P[i] = BR(p[j], i)\n",
    "    return P - p "
   ]
  },
  {
   "cell_type": "code",
   "execution_count": 9,
   "metadata": {},
   "outputs": [
    {
     "name": "stdout",
     "output_type": "stream",
     "text": [
      "The pure strategy NE of the game is: [1.80826765 1.80826765]\n"
     ]
    }
   ],
   "source": [
    "p_nash = fsolve(eq_fun, np.array([5., 5.]))\n",
    "print(f'The pure strategy NE of the game is: {p_nash}')"
   ]
  },
  {
   "cell_type": "markdown",
   "metadata": {},
   "source": [
    "# Interact with the game directly"
   ]
  },
  {
   "cell_type": "code",
   "execution_count": 10,
   "metadata": {},
   "outputs": [],
   "source": [
    "# some examples to work with \n",
    "from examples.players_cont.player2 import player as player1\n",
    "from examples.players_cont.player3 import player as player2"
   ]
  },
  {
   "cell_type": "code",
   "execution_count": 11,
   "metadata": {},
   "outputs": [],
   "source": [
    "# initialize instances of two player functions\n",
    "p1 = player1()\n",
    "p2 = player2()\n",
    "\n",
    "# choose who is player 1 and 2 \n",
    "p1.i = 0\n",
    "p2.i = 1\n",
    "\n",
    "# define the game \n",
    "price_range = (0.0, 5.0)\n",
    "marginal_cost = 1.0\n",
    "beta = 0.99\n",
    "G = RepeatedBertrandGame(p1, p2, demand_function, marginal_cost, price_range, beta)"
   ]
  },
  {
   "cell_type": "markdown",
   "metadata": {},
   "source": [
    "Play a single round of the game and print what happened "
   ]
  },
  {
   "cell_type": "code",
   "execution_count": 12,
   "metadata": {},
   "outputs": [],
   "source": [
    "G.play_round()"
   ]
  },
  {
   "cell_type": "code",
   "execution_count": 13,
   "metadata": {},
   "outputs": [
    {
     "name": "stdout",
     "output_type": "stream",
     "text": [
      "[array([5.   , 4.995])]\n"
     ]
    }
   ],
   "source": [
    "print(G.history)"
   ]
  },
  {
   "cell_type": "markdown",
   "metadata": {},
   "source": [
    "Play a lot of rounds and plot the resulting series of prices. "
   ]
  },
  {
   "cell_type": "code",
   "execution_count": 14,
   "metadata": {},
   "outputs": [],
   "source": [
    "for it in range(100): \n",
    "    G.play_round()"
   ]
  },
  {
   "cell_type": "code",
   "execution_count": 15,
   "metadata": {},
   "outputs": [
    {
     "data": {
      "image/png": "[encoded data removed]",
      "text/plain": [
       "<Figure size 432x288 with 1 Axes>"
      ]
     },
     "metadata": {
      "needs_background": "light"
     },
     "output_type": "display_data"
    }
   ],
   "source": [
    "plt.plot(G.history); \n",
    "plt.legend([player.name for player in G.players]); \n",
    "plt.xlabel('Game round'); plt.ylabel('Price'); "
   ]
  },
  {
   "cell_type": "code",
   "execution_count": 16,
   "metadata": {},
   "outputs": [
    {
     "name": "stdout",
     "output_type": "stream",
     "text": [
      "Tit-for-tatter           :     5.90\n",
      "Undercutting Bastard     :     6.26\n"
     ]
    }
   ],
   "source": [
    "payoffs = G.compute_total_payoff_from_history(beta=beta)\n",
    "for i,player in enumerate(G.players): \n",
    "    print(f'{player.name: <25}: {payoffs[i]: 8.2f}')"
   ]
  },
  {
   "cell_type": "markdown",
   "metadata": {},
   "source": [
    "# Run a tournament \n",
    "This will \n",
    "\n",
    "1. read all *.py files in `player_file_path` and load a `player` class from each \n",
    "2. set up an all_play_all tournament between said players \n",
    "3. provide rankings (win = 2, draw = 1, loss = 0 points)"
   ]
  },
  {
   "cell_type": "code",
   "execution_count": 17,
   "metadata": {},
   "outputs": [
    {
     "name": "stdout",
     "output_type": "stream",
     "text": [
      "Tournament ready with 5 players\n"
     ]
    }
   ],
   "source": [
    "players_file_path = './examples/players_cont/'\n",
    "tournament = Tournament(players_filepath=players_file_path, game=RepeatedBertrandGame, tournament_name='PriceComp')\n",
    "print(tournament)"
   ]
  },
  {
   "cell_type": "code",
   "execution_count": 18,
   "metadata": {},
   "outputs": [
    {
     "name": "stderr",
     "output_type": "stream",
     "text": [
      "100%|██████████| 10/10 [00:00<00:00, 143.88it/s]"
     ]
    },
    {
     "name": "stdout",
     "output_type": "stream",
     "text": [
      "\n",
      "Top placements are:\n",
      "                   Name  Points\n",
      "3  Undercutting Bastard     8.0\n",
      "1               Randawg     6.0\n",
      "4        Tit-for-tatter     3.0\n",
      "2                  PMAX     3.0\n",
      "0                  pmin     0.0\n"
     ]
    },
    {
     "name": "stderr",
     "output_type": "stream",
     "text": [
      "\n"
     ]
    }
   ],
   "source": [
    "beta = 0.99 \n",
    "tournament.start_tournament(T=100, beta=beta, demand_function=demand_function, marginal_cost=1.0, price_range=price_range, discount_factor=beta)"
   ]
  }
 ],
 "metadata": {
  "kernelspec": {
   "display_name": "Python 3",
   "language": "python",
   "name": "python3"
  },
  "language_info": {
   "codemirror_mode": {
    "name": "ipython",
    "version": 3
   },
   "file_extension": ".py",
   "mimetype": "text/x-python",
   "name": "python",
   "nbconvert_exporter": "python",
   "pygments_lexer": "ipython3",
   "version": "3.8.2"
  }
 },
 "nbformat": 4,
 "nbformat_minor": 4
}

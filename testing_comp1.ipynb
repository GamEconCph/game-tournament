{
 "cells": [
  {
   "cell_type": "code",
   "execution_count": 1,
   "metadata": {},
   "outputs": [],
   "source": [
    "import numpy as np"
   ]
  },
  {
   "cell_type": "code",
   "execution_count": 2,
   "metadata": {},
   "outputs": [],
   "source": [
    "from game_tournament.game import DiscreteGame, Tournament"
   ]
  },
  {
   "cell_type": "code",
   "execution_count": 3,
   "metadata": {},
   "outputs": [
    {
     "name": "stderr",
     "output_type": "stream",
     "text": [
      "100%|██████████| 3/3 [00:00<00:00, 778.02it/s]"
     ]
    },
    {
     "name": "stdout",
     "output_type": "stream",
     "text": [
      "Tournament ready with 3 players\n",
      "\n",
      "Top placements are:\n",
      "             Name  Points\n",
      "0  Choice0 4evar!     4.0\n",
      "2         Randawg     2.0\n",
      "1  2nd-order dude     0.0\n"
     ]
    },
    {
     "name": "stderr",
     "output_type": "stream",
     "text": [
      "\n"
     ]
    }
   ],
   "source": [
    "\n",
    "np.random.seed(1339)\n",
    "# TODO: Decide on what student's files should be named\n",
    "# TODO: Decide on where student's files should be read from\n",
    "\n",
    "# relative path to where the modules are stored\n",
    "players_file_path = \"./examples/players\"\n",
    "\n",
    "\n",
    "U1 = np.array([[5, 3, 1], [3, 2, 3], [2, 1, 0]])\n",
    "U2 = np.array([[0, 3, 1], [4, 2, 1], [2, 1, 5]])\n",
    "\n",
    "A1 = [\"U\", \"M\", \"D\"]\n",
    "A2 = [\"L\", \"C\", \"R\"]\n",
    "\n",
    "\n",
    "tournament = Tournament(players_filepath=players_file_path, game=DiscreteGame)\n",
    "print(tournament)\n",
    "\n",
    "tournament.start_tournament(U1=U1, U2=U2, action_names=[A1, A2])"
   ]
  },
  {
   "cell_type": "code",
   "execution_count": 4,
   "metadata": {},
   "outputs": [
    {
     "data": {
      "text/html": [
       "<div>\n",
       "<style scoped>\n",
       "    .dataframe tbody tr th:only-of-type {\n",
       "        vertical-align: middle;\n",
       "    }\n",
       "\n",
       "    .dataframe tbody tr th {\n",
       "        vertical-align: top;\n",
       "    }\n",
       "\n",
       "    .dataframe thead th {\n",
       "        text-align: right;\n",
       "    }\n",
       "</style>\n",
       "<table border=\"1\" class=\"dataframe\">\n",
       "  <thead>\n",
       "    <tr style=\"text-align: right;\">\n",
       "      <th></th>\n",
       "      <th>Points</th>\n",
       "    </tr>\n",
       "    <tr>\n",
       "      <th>Name</th>\n",
       "      <th></th>\n",
       "    </tr>\n",
       "  </thead>\n",
       "  <tbody>\n",
       "    <tr>\n",
       "      <th>Choice0 4evar!</th>\n",
       "      <td>4.0</td>\n",
       "    </tr>\n",
       "    <tr>\n",
       "      <th>Randawg</th>\n",
       "      <td>2.0</td>\n",
       "    </tr>\n",
       "    <tr>\n",
       "      <th>2nd-order dude</th>\n",
       "      <td>0.0</td>\n",
       "    </tr>\n",
       "  </tbody>\n",
       "</table>\n",
       "</div>"
      ],
      "text/plain": [
       "                Points\n",
       "Name                  \n",
       "Choice0 4evar!     4.0\n",
       "Randawg            2.0\n",
       "2nd-order dude     0.0"
      ]
     },
     "execution_count": 4,
     "metadata": {},
     "output_type": "execute_result"
    }
   ],
   "source": [
    "tournament.tournament_rank.set_index('Name').sort_values('Points', ascending=False)"
   ]
  },
  {
   "cell_type": "code",
   "execution_count": 5,
   "metadata": {},
   "outputs": [
    {
     "name": "stderr",
     "output_type": "stream",
     "text": [
      "100%|██████████| 3/3 [00:00<00:00, 469.77it/s]"
     ]
    },
    {
     "name": "stdout",
     "output_type": "stream",
     "text": [
      "\n",
      "Top placements are:\n",
      "             Name  Points\n",
      "2         Randawg       2\n",
      "0  Choice0 4evar!       2\n",
      "1  2nd-order dude       2\n"
     ]
    },
    {
     "name": "stderr",
     "output_type": "stream",
     "text": [
      "\n"
     ]
    }
   ],
   "source": [
    "\n",
    "U1 = np.array([ \n",
    "[8,\t9,\t5,\t4,\t8], \n",
    "[9,\t1,\t7,\t5,\t4],  \n",
    "[5,\t7,\t2,\t9,\t7],  \n",
    "[3,\t9,\t2,\t0,\t6],  \n",
    "[7,\t5,\t3,\t0,\t2]])\n",
    "\n",
    "U2 = np.array([ \n",
    "[2,\t7,\t5,\t6,\t3], \n",
    "[4,\t0,\t6,\t8,\t1],  \n",
    "[4,\t9,\t8,\t6,\t0],  \n",
    "[4,\t8,\t2,\t1,\t3],  \n",
    "[4,\t4,\t9,\t4,\t2]])\n",
    "\n",
    "U = [U1, U2]\n",
    "\n",
    "A1 = ['Run', 'Hide', 'Play dead', 'Fight', 'Freeze']\n",
    "A2 = A1\n",
    "\n",
    "tournament2 = Tournament(players_filepath=players_file_path, game=DiscreteGame)\n",
    "\n",
    "tournament2.start_tournament(U1=U1, U2=U2, action_names=[A1, A2])\n"
   ]
  },
  {
   "cell_type": "code",
   "execution_count": 6,
   "metadata": {},
   "outputs": [
    {
     "name": "stderr",
     "output_type": "stream",
     "text": [
      "100%|██████████| 3/3 [00:00<00:00, 532.41it/s]"
     ]
    },
    {
     "name": "stdout",
     "output_type": "stream",
     "text": [
      "\n",
      "Top placements are:\n",
      "             Name  Points\n",
      "1  2nd-order dude     4.0\n",
      "0  Choice0 4evar!     2.0\n",
      "2         Randawg     0.0\n"
     ]
    },
    {
     "name": "stderr",
     "output_type": "stream",
     "text": [
      "\n"
     ]
    }
   ],
   "source": [
    "U1 = np.random.uniform(0, 1, size=(3,4))\n",
    "U2 = -U1 \n",
    "\n",
    "A1 = ['1', '2', '3']\n",
    "A2 = [f'{i}' for i in range(1,5)]\n",
    "\n",
    "tournament3 = Tournament(players_filepath=players_file_path, game=DiscreteGame)\n",
    "tournament3.start_tournament(U1=U1, U2=U2, action_names=[A1, A2])"
   ]
  }
 ],
 "metadata": {
  "kernelspec": {
   "display_name": "Python 3",
   "language": "python",
   "name": "python3"
  },
  "language_info": {
   "codemirror_mode": {
    "name": "ipython",
    "version": 3
   },
   "file_extension": ".py",
   "mimetype": "text/x-python",
   "name": "python",
   "nbconvert_exporter": "python",
   "pygments_lexer": "ipython3",
   "version": "3.8.2"
  }
 },
 "nbformat": 4,
 "nbformat_minor": 4
}

{
 "cells": [
  {
   "cell_type": "markdown",
   "metadata": {},
   "source": [
    "# Example: Repeated Bertrand Game\n",
    "\n",
    "This notebook provides example code to make it easier to write a player function. \n",
    "\n",
    "* Write player functions, `player1.py`, `player2.py`, ... in the folder `./players/`. \n",
    "* Run this notebook: it will automatically read them all."
   ]
  },
  {
   "cell_type": "code",
   "execution_count": 1,
   "metadata": {},
   "outputs": [],
   "source": [
    "from game_tournament.game import RepeatedBertrandGame, Tournament\n",
    "import numpy as np \n",
    "import matplotlib.pyplot as plt \n",
    "import pandas as pd \n",
    "\n",
    "%load_ext autoreload\n",
    "%autoreload 2 "
   ]
  },
  {
   "cell_type": "markdown",
   "metadata": {},
   "source": [
    "# Reading in player modules "
   ]
  },
  {
   "cell_type": "code",
   "execution_count": 2,
   "metadata": {},
   "outputs": [],
   "source": [
    "# later, we will give the path directly to a function\n",
    "player_path = './examples/players_repeated/'"
   ]
  },
  {
   "cell_type": "markdown",
   "metadata": {},
   "source": [
    "# General setup, common across specifications \n",
    "\n",
    "* **Marginal cost:** $c = 0.5$ \n",
    "* **Action space:** $p \\in [c; 10]$"
   ]
  },
  {
   "cell_type": "code",
   "execution_count": 3,
   "metadata": {},
   "outputs": [],
   "source": [
    "c = 0.5\n",
    "pmin = c\n",
    "pmax = 10."
   ]
  },
  {
   "cell_type": "markdown",
   "metadata": {},
   "source": [
    "### Demand curve\n",
    "$$ D_i(p_i, p_j) = \\frac{\\exp(1-p_i)}{1 + \\exp(1-p_i) + \\exp(1 - p_j)} $$"
   ]
  },
  {
   "cell_type": "code",
   "execution_count": 4,
   "metadata": {},
   "outputs": [],
   "source": [
    "def demand_function(p1, p2): \n",
    "    '''\n",
    "    Args\n",
    "        p1,p2: prices \n",
    "    Returns: \n",
    "        demand to firm 1\n",
    "    '''\n",
    "    u1 = np.exp(1.-1.0*p1)\n",
    "    u2 = np.exp(1.-1.0*p2)\n",
    "    u0 = 1.0 \n",
    "    \n",
    "    denom = u0 + u1 + u2\n",
    "    return u1 / denom \n",
    "    "
   ]
  },
  {
   "cell_type": "markdown",
   "metadata": {},
   "source": [
    "# Running a single game\n",
    "\n",
    "We start by directly importing two specific player functions and setting them up to compete against one another. "
   ]
  },
  {
   "cell_type": "code",
   "execution_count": 5,
   "metadata": {},
   "outputs": [
    {
     "name": "stdout",
     "output_type": "stream",
     "text": [
      "Player 1: Undercutting Bastard\n",
      "Player 2: Tit-for-tatter\n"
     ]
    }
   ],
   "source": [
    "# Direct import statements \n",
    "from examples.players_repeated.player3 import player as player1\n",
    "from examples.players_repeated.player2 import player as player2\n",
    "print(f'Player 1: {player1.name}')\n",
    "print(f'Player 2: {player2.name}')"
   ]
  },
  {
   "cell_type": "code",
   "execution_count": 6,
   "metadata": {},
   "outputs": [
    {
     "name": "stdout",
     "output_type": "stream",
     "text": [
      "Undercutting Bastard vs. Tit-for-tatter: played 0 rounds\n"
     ]
    }
   ],
   "source": [
    "# initialize instances of two player functions\n",
    "p1 = player1()\n",
    "p2 = player2()\n",
    "\n",
    "# define the game \n",
    "price_range = (0.0, 5.0)\n",
    "marginal_cost = 1.0\n",
    "beta = 0.99\n",
    "G = RepeatedBertrandGame(p1, p2, demand_function, marginal_cost, price_range, beta)\n",
    "print(G)"
   ]
  },
  {
   "cell_type": "markdown",
   "metadata": {},
   "source": [
    "The history of the game is empty since no rounds have been played: "
   ]
  },
  {
   "cell_type": "code",
   "execution_count": 7,
   "metadata": {},
   "outputs": [
    {
     "data": {
      "text/plain": [
       "array([], shape=(0, 2), dtype=float64)"
      ]
     },
     "execution_count": 7,
     "metadata": {},
     "output_type": "execute_result"
    }
   ],
   "source": [
    "G.history"
   ]
  },
  {
   "cell_type": "markdown",
   "metadata": {},
   "source": [
    "Now let us play `T = 100` rounds of the game. "
   ]
  },
  {
   "cell_type": "code",
   "execution_count": 8,
   "metadata": {},
   "outputs": [],
   "source": [
    "G.play_game(T=10)"
   ]
  },
  {
   "cell_type": "code",
   "execution_count": 9,
   "metadata": {},
   "outputs": [
    {
     "name": "stdout",
     "output_type": "stream",
     "text": [
      "Undercutting Bastard vs. Tit-for-tatter: played 10 rounds\n"
     ]
    }
   ],
   "source": [
    "print(G)"
   ]
  },
  {
   "cell_type": "code",
   "execution_count": 10,
   "metadata": {},
   "outputs": [
    {
     "data": {
      "text/plain": [
       "array([[4.995  , 5.     ],\n",
       "       [4.995  , 5.     ],\n",
       "       [4.5    , 4.995  ],\n",
       "       [4.5    , 4.995  ],\n",
       "       [4.4955 , 4.5    ],\n",
       "       [4.4955 , 4.5    ],\n",
       "       [4.05   , 4.4955 ],\n",
       "       [4.05   , 4.4955 ],\n",
       "       [4.04595, 4.05   ],\n",
       "       [4.04595, 4.05   ]])"
      ]
     },
     "execution_count": 10,
     "metadata": {},
     "output_type": "execute_result"
    }
   ],
   "source": [
    "# Now the history property has been populated\n",
    "G.history"
   ]
  },
  {
   "cell_type": "code",
   "execution_count": 11,
   "metadata": {},
   "outputs": [
    {
     "data": {
      "text/html": [
       "<div>\n",
       "<style scoped>\n",
       "    .dataframe tbody tr th:only-of-type {\n",
       "        vertical-align: middle;\n",
       "    }\n",
       "\n",
       "    .dataframe tbody tr th {\n",
       "        vertical-align: top;\n",
       "    }\n",
       "\n",
       "    .dataframe thead tr th {\n",
       "        text-align: left;\n",
       "    }\n",
       "\n",
       "    .dataframe thead tr:last-of-type th {\n",
       "        text-align: right;\n",
       "    }\n",
       "</style>\n",
       "<table border=\"1\" class=\"dataframe\">\n",
       "  <thead>\n",
       "    <tr>\n",
       "      <th></th>\n",
       "      <th colspan=\"2\" halign=\"left\">actions</th>\n",
       "      <th colspan=\"2\" halign=\"left\">payoffs</th>\n",
       "    </tr>\n",
       "    <tr>\n",
       "      <th></th>\n",
       "      <th>Undercutting Bastard</th>\n",
       "      <th>Tit-for-tatter</th>\n",
       "      <th>Undercutting Bastard</th>\n",
       "      <th>Tit-for-tatter</th>\n",
       "    </tr>\n",
       "    <tr>\n",
       "      <th>Round</th>\n",
       "      <th></th>\n",
       "      <th></th>\n",
       "      <th></th>\n",
       "      <th></th>\n",
       "    </tr>\n",
       "  </thead>\n",
       "  <tbody>\n",
       "    <tr>\n",
       "      <th>0</th>\n",
       "      <td>4.99500</td>\n",
       "      <td>5.0000</td>\n",
       "      <td>0.070933</td>\n",
       "      <td>0.070667</td>\n",
       "    </tr>\n",
       "    <tr>\n",
       "      <th>1</th>\n",
       "      <td>4.99500</td>\n",
       "      <td>5.0000</td>\n",
       "      <td>0.070933</td>\n",
       "      <td>0.070667</td>\n",
       "    </tr>\n",
       "    <tr>\n",
       "      <th>2</th>\n",
       "      <td>4.50000</td>\n",
       "      <td>4.9950</td>\n",
       "      <td>0.100792</td>\n",
       "      <td>0.070129</td>\n",
       "    </tr>\n",
       "    <tr>\n",
       "      <th>3</th>\n",
       "      <td>4.50000</td>\n",
       "      <td>4.9950</td>\n",
       "      <td>0.100792</td>\n",
       "      <td>0.070129</td>\n",
       "    </tr>\n",
       "    <tr>\n",
       "      <th>4</th>\n",
       "      <td>4.49550</td>\n",
       "      <td>4.5000</td>\n",
       "      <td>0.099979</td>\n",
       "      <td>0.099658</td>\n",
       "    </tr>\n",
       "    <tr>\n",
       "      <th>5</th>\n",
       "      <td>4.49550</td>\n",
       "      <td>4.5000</td>\n",
       "      <td>0.099979</td>\n",
       "      <td>0.099658</td>\n",
       "    </tr>\n",
       "    <tr>\n",
       "      <th>6</th>\n",
       "      <td>4.05000</td>\n",
       "      <td>4.4955</td>\n",
       "      <td>0.134031</td>\n",
       "      <td>0.098387</td>\n",
       "    </tr>\n",
       "    <tr>\n",
       "      <th>7</th>\n",
       "      <td>4.05000</td>\n",
       "      <td>4.4955</td>\n",
       "      <td>0.134031</td>\n",
       "      <td>0.098387</td>\n",
       "    </tr>\n",
       "    <tr>\n",
       "      <th>8</th>\n",
       "      <td>4.04595</td>\n",
       "      <td>4.0500</td>\n",
       "      <td>0.132283</td>\n",
       "      <td>0.131924</td>\n",
       "    </tr>\n",
       "    <tr>\n",
       "      <th>9</th>\n",
       "      <td>4.04595</td>\n",
       "      <td>4.0500</td>\n",
       "      <td>0.132283</td>\n",
       "      <td>0.131924</td>\n",
       "    </tr>\n",
       "  </tbody>\n",
       "</table>\n",
       "</div>"
      ],
      "text/plain": [
       "                   actions                             payoffs               \n",
       "      Undercutting Bastard Tit-for-tatter Undercutting Bastard Tit-for-tatter\n",
       "Round                                                                        \n",
       "0                  4.99500         5.0000             0.070933       0.070667\n",
       "1                  4.99500         5.0000             0.070933       0.070667\n",
       "2                  4.50000         4.9950             0.100792       0.070129\n",
       "3                  4.50000         4.9950             0.100792       0.070129\n",
       "4                  4.49550         4.5000             0.099979       0.099658\n",
       "5                  4.49550         4.5000             0.099979       0.099658\n",
       "6                  4.05000         4.4955             0.134031       0.098387\n",
       "7                  4.05000         4.4955             0.134031       0.098387\n",
       "8                  4.04595         4.0500             0.132283       0.131924\n",
       "9                  4.04595         4.0500             0.132283       0.131924"
      ]
     },
     "execution_count": 11,
     "metadata": {},
     "output_type": "execute_result"
    }
   ],
   "source": [
    "# we can use this function to print a nice table (a pandas dataframe is returned)\n",
    "tab = G.get_game_actions_and_payoffs()\n",
    "tab "
   ]
  },
  {
   "cell_type": "markdown",
   "metadata": {},
   "source": [
    "Using this dataframe, we can plot the actions and payoffs of the two players over the course of the game "
   ]
  },
  {
   "cell_type": "code",
   "execution_count": 12,
   "metadata": {},
   "outputs": [
    {
     "data": {
      "image/png": "[encoded data removed]",
      "text/plain": [
       "<Figure size 432x288 with 1 Axes>"
      ]
     },
     "metadata": {
      "needs_background": "light"
     },
     "output_type": "display_data"
    },
    {
     "data": {
      "image/png": "[encoded data removed]",
      "text/plain": [
       "<Figure size 432x288 with 1 Axes>"
      ]
     },
     "metadata": {
      "needs_background": "light"
     },
     "output_type": "display_data"
    }
   ],
   "source": [
    "tab['actions'].plot(); \n",
    "tab['payoffs'].plot(); "
   ]
  },
  {
   "cell_type": "markdown",
   "metadata": {},
   "source": [
    "# Running a Tournament\n",
    "\n",
    "This will run a full tournament between all the player functions found in the folder `player_path`. "
   ]
  },
  {
   "cell_type": "code",
   "execution_count": 13,
   "metadata": {},
   "outputs": [
    {
     "name": "stderr",
     "output_type": "stream",
     "text": [
      "15it [00:00, 328.80it/s]"
     ]
    },
    {
     "name": "stdout",
     "output_type": "stream",
     "text": [
      "Tournament winner was: Randawg (against 5 opponents)\n"
     ]
    },
    {
     "name": "stderr",
     "output_type": "stream",
     "text": [
      "\n"
     ]
    },
    {
     "data": {
      "text/html": [
       "<div>\n",
       "<style scoped>\n",
       "    .dataframe tbody tr th:only-of-type {\n",
       "        vertical-align: middle;\n",
       "    }\n",
       "\n",
       "    .dataframe tbody tr th {\n",
       "        vertical-align: top;\n",
       "    }\n",
       "\n",
       "    .dataframe thead th {\n",
       "        text-align: right;\n",
       "    }\n",
       "</style>\n",
       "<table border=\"1\" class=\"dataframe\">\n",
       "  <thead>\n",
       "    <tr style=\"text-align: right;\">\n",
       "      <th></th>\n",
       "      <th>RBG</th>\n",
       "    </tr>\n",
       "    <tr>\n",
       "      <th>Player</th>\n",
       "      <th></th>\n",
       "    </tr>\n",
       "  </thead>\n",
       "  <tbody>\n",
       "    <tr>\n",
       "      <th>Randawg</th>\n",
       "      <td>0.074174</td>\n",
       "    </tr>\n",
       "    <tr>\n",
       "      <th>Undercutting Bastard</th>\n",
       "      <td>0.049584</td>\n",
       "    </tr>\n",
       "    <tr>\n",
       "      <th>Anders</th>\n",
       "      <td>0.043274</td>\n",
       "    </tr>\n",
       "    <tr>\n",
       "      <th>Tit-for-tatter</th>\n",
       "      <td>0.040448</td>\n",
       "    </tr>\n",
       "    <tr>\n",
       "      <th>PMAX</th>\n",
       "      <td>0.000635</td>\n",
       "    </tr>\n",
       "    <tr>\n",
       "      <th>pmin</th>\n",
       "      <td>0.000000</td>\n",
       "    </tr>\n",
       "  </tbody>\n",
       "</table>\n",
       "</div>"
      ],
      "text/plain": [
       "                           RBG\n",
       "Player                        \n",
       "Randawg               0.074174\n",
       "Undercutting Bastard  0.049584\n",
       "Anders                0.043274\n",
       "Tit-for-tatter        0.040448\n",
       "PMAX                  0.000635\n",
       "pmin                  0.000000"
      ]
     },
     "execution_count": 13,
     "metadata": {},
     "output_type": "execute_result"
    }
   ],
   "source": [
    "T = 100\n",
    "game_data = {'demand_function':demand_function, 'discount_factor': beta, \n",
    "    'marginal_cost': c, 'price_range': (pmin,pmax)\n",
    "}\n",
    "t = Tournament(player_path, RepeatedBertrandGame, game_data=game_data, T=T, tournament_name='RBG', )\n",
    "t.run() # run the tournament and score the game "
   ]
  },
  {
   "cell_type": "code",
   "execution_count": 14,
   "metadata": {},
   "outputs": [
    {
     "data": {
      "text/html": [
       "<div>\n",
       "<style scoped>\n",
       "    .dataframe tbody tr th:only-of-type {\n",
       "        vertical-align: middle;\n",
       "    }\n",
       "\n",
       "    .dataframe tbody tr th {\n",
       "        vertical-align: top;\n",
       "    }\n",
       "\n",
       "    .dataframe thead th {\n",
       "        text-align: right;\n",
       "    }\n",
       "</style>\n",
       "<table border=\"1\" class=\"dataframe\">\n",
       "  <thead>\n",
       "    <tr style=\"text-align: right;\">\n",
       "      <th>Opponent</th>\n",
       "      <th>pmin</th>\n",
       "      <th>Randawg</th>\n",
       "      <th>PMAX</th>\n",
       "      <th>Undercutting Bastard</th>\n",
       "      <th>Anders</th>\n",
       "      <th>Tit-for-tatter</th>\n",
       "    </tr>\n",
       "    <tr>\n",
       "      <th>Player</th>\n",
       "      <th></th>\n",
       "      <th></th>\n",
       "      <th></th>\n",
       "      <th></th>\n",
       "      <th></th>\n",
       "      <th></th>\n",
       "    </tr>\n",
       "  </thead>\n",
       "  <tbody>\n",
       "    <tr>\n",
       "      <th>pmin</th>\n",
       "      <td>NaN</td>\n",
       "      <td>0.000000</td>\n",
       "      <td>0.000000</td>\n",
       "      <td>0.000000</td>\n",
       "      <td>0.000000</td>\n",
       "      <td>0.000000</td>\n",
       "    </tr>\n",
       "    <tr>\n",
       "      <th>Randawg</th>\n",
       "      <td>0.038279</td>\n",
       "      <td>NaN</td>\n",
       "      <td>0.089968</td>\n",
       "      <td>0.088231</td>\n",
       "      <td>0.070374</td>\n",
       "      <td>0.084017</td>\n",
       "    </tr>\n",
       "    <tr>\n",
       "      <th>PMAX</th>\n",
       "      <td>0.000281</td>\n",
       "      <td>0.000668</td>\n",
       "      <td>NaN</td>\n",
       "      <td>0.000743</td>\n",
       "      <td>0.000743</td>\n",
       "      <td>0.000743</td>\n",
       "    </tr>\n",
       "    <tr>\n",
       "      <th>Undercutting Bastard</th>\n",
       "      <td>0.000281</td>\n",
       "      <td>0.073338</td>\n",
       "      <td>0.001774</td>\n",
       "      <td>NaN</td>\n",
       "      <td>0.094352</td>\n",
       "      <td>0.078178</td>\n",
       "    </tr>\n",
       "    <tr>\n",
       "      <th>Anders</th>\n",
       "      <td>0.000014</td>\n",
       "      <td>0.070416</td>\n",
       "      <td>0.001161</td>\n",
       "      <td>0.094739</td>\n",
       "      <td>NaN</td>\n",
       "      <td>0.050040</td>\n",
       "    </tr>\n",
       "    <tr>\n",
       "      <th>Tit-for-tatter</th>\n",
       "      <td>0.000009</td>\n",
       "      <td>0.080199</td>\n",
       "      <td>0.000743</td>\n",
       "      <td>0.074797</td>\n",
       "      <td>0.046490</td>\n",
       "      <td>NaN</td>\n",
       "    </tr>\n",
       "  </tbody>\n",
       "</table>\n",
       "</div>"
      ],
      "text/plain": [
       "Opponent                  pmin   Randawg      PMAX  Undercutting Bastard  \\\n",
       "Player                                                                     \n",
       "pmin                       NaN  0.000000  0.000000              0.000000   \n",
       "Randawg               0.038279       NaN  0.089968              0.088231   \n",
       "PMAX                  0.000281  0.000668       NaN              0.000743   \n",
       "Undercutting Bastard  0.000281  0.073338  0.001774                   NaN   \n",
       "Anders                0.000014  0.070416  0.001161              0.094739   \n",
       "Tit-for-tatter        0.000009  0.080199  0.000743              0.074797   \n",
       "\n",
       "Opponent                Anders  Tit-for-tatter  \n",
       "Player                                          \n",
       "pmin                  0.000000        0.000000  \n",
       "Randawg               0.070374        0.084017  \n",
       "PMAX                  0.000743        0.000743  \n",
       "Undercutting Bastard  0.094352        0.078178  \n",
       "Anders                     NaN        0.050040  \n",
       "Tit-for-tatter        0.046490             NaN  "
      ]
     },
     "execution_count": 14,
     "metadata": {},
     "output_type": "execute_result"
    }
   ],
   "source": [
    "matchup_results = t.get_matchup_results()\n",
    "matchup_results"
   ]
  },
  {
   "cell_type": "markdown",
   "metadata": {},
   "source": [
    "Print the matchup results to see if there is a pattern in who is good against whom. "
   ]
  },
  {
   "cell_type": "code",
   "execution_count": 15,
   "metadata": {},
   "outputs": [
    {
     "data": {
      "image/png": "[encoded data removed]",
      "text/plain": [
       "<Figure size 432x288 with 1 Axes>"
      ]
     },
     "metadata": {
      "needs_background": "light"
     },
     "output_type": "display_data"
    }
   ],
   "source": [
    "matchup_results.plot.bar(); "
   ]
  },
  {
   "cell_type": "markdown",
   "metadata": {},
   "source": [
    "# Access individual games\n",
    "\n",
    "It can be useful to access individual games from the tournament to check performance. To do so, note that `t.games[:]` is the list of the games that were played. Each of these have the same printing and plotting functions as a simple game has.  "
   ]
  },
  {
   "cell_type": "code",
   "execution_count": 16,
   "metadata": {},
   "outputs": [
    {
     "name": "stdout",
     "output_type": "stream",
     "text": [
      "Available games in tournament:\n",
      "0: pmin vs. Randawg\n",
      "1: pmin vs. PMAX\n",
      "2: pmin vs. Undercutting Bastard\n",
      "3: pmin vs. Anders\n",
      "4: pmin vs. Tit-for-tatter\n",
      "5: Randawg vs. PMAX\n",
      "6: Randawg vs. Undercutting Bastard\n",
      "7: Randawg vs. Anders\n",
      "8: Randawg vs. Tit-for-tatter\n",
      "9: PMAX vs. Undercutting Bastard\n",
      "10: PMAX vs. Anders\n",
      "11: PMAX vs. Tit-for-tatter\n",
      "12: Undercutting Bastard vs. Anders\n",
      "13: Undercutting Bastard vs. Tit-for-tatter\n",
      "14: Anders vs. Tit-for-tatter\n"
     ]
    }
   ],
   "source": [
    "print(f'Available games in tournament:')\n",
    "for i,g in enumerate(t.games): \n",
    "    print(f'{i}: {g.name}')"
   ]
  },
  {
   "cell_type": "code",
   "execution_count": 17,
   "metadata": {},
   "outputs": [
    {
     "name": "stdout",
     "output_type": "stream",
     "text": [
      "Showing game history for Undercutting Bastard vs. Tit-for-tatter\n"
     ]
    },
    {
     "data": {
      "image/png": "[encoded data removed]",
      "text/plain": [
       "<Figure size 432x288 with 1 Axes>"
      ]
     },
     "metadata": {
      "needs_background": "light"
     },
     "output_type": "display_data"
    },
    {
     "data": {
      "image/png": "[encoded data removed]",
      "text/plain": [
       "<Figure size 432x288 with 1 Axes>"
      ]
     },
     "metadata": {
      "needs_background": "light"
     },
     "output_type": "display_data"
    }
   ],
   "source": [
    "i_game = 13\n",
    "print(f'Showing game history for {t.games[i_game].name}')\n",
    "t.games[i_game].get_game_actions_and_payoffs()['actions'].plot();\n",
    "t.games[i_game].get_game_actions_and_payoffs()['payoffs'].plot();"
   ]
  }
 ],
 "metadata": {
  "kernelspec": {
   "display_name": "Python 3",
   "language": "python",
   "name": "python3"
  },
  "language_info": {
   "codemirror_mode": {
    "name": "ipython",
    "version": 3
   },
   "file_extension": ".py",
   "mimetype": "text/x-python",
   "name": "python",
   "nbconvert_exporter": "python",
   "pygments_lexer": "ipython3",
   "version": "3.8.2"
  }
 },
 "nbformat": 4,
 "nbformat_minor": 4
}

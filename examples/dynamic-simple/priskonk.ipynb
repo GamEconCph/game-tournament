{
 "cells": [
  {
   "cell_type": "markdown",
   "metadata": {},
   "source": [
    "# Priskonkurrence \n",
    "\n",
    "Eksempel på hvordan to algoritmer kan konkurrere mod hinanden. I spillet skal man sætte en pris, og man ved hvad priser der blev sat i sidste periode: dvs. spillernes state variabel er forrige periodes prisvektor (samt hvem af spillerne de selv er). Man må maksimalt sætte prizen `pmax` og minimalt 0. \n",
    "\n",
    "Payoffs er, at vinderen får sin pris og taberen får nul, og hvis de byder det samme, får de halvdelen af det bud hver. \n",
    "\n",
    "$$u_i(p_i,p_j) = \n",
    "\\cases{    p_i           & \\text{if } p_i < p_j \n",
    "        \\\\ 0             & \\text{if } p_i > p_j \n",
    "        \\\\ \\frac{p_i}{2} & \\text{if } p_i = p_j.} $$ "
   ]
  },
  {
   "cell_type": "code",
   "execution_count": 3,
   "metadata": {},
   "outputs": [
    {
     "name": "stderr",
     "output_type": "stream",
     "text": [
      "Matplotlib is building the font cache; this may take a moment.\n"
     ]
    }
   ],
   "source": [
    "from anders import anders\r\n",
    "from brian import brian\r\n",
    "from game import game \r\n",
    "import numpy as np\r\n",
    "import matplotlib.pyplot as plt"
   ]
  },
  {
   "cell_type": "markdown",
   "metadata": {},
   "source": [
    "Initialiser instanser af de to spillere "
   ]
  },
  {
   "cell_type": "code",
   "execution_count": 4,
   "metadata": {},
   "outputs": [],
   "source": [
    "a = anders('Anders')\n",
    "b = brian('Brian')"
   ]
  },
  {
   "cell_type": "markdown",
   "metadata": {},
   "source": [
    "Opret spillet "
   ]
  },
  {
   "cell_type": "code",
   "execution_count": 6,
   "metadata": {},
   "outputs": [],
   "source": [
    "G = game(a, b, pmax=1000.0)"
   ]
  },
  {
   "cell_type": "markdown",
   "metadata": {},
   "source": [
    "Play the game once "
   ]
  },
  {
   "cell_type": "code",
   "execution_count": 7,
   "metadata": {},
   "outputs": [
    {
     "name": "stdout",
     "output_type": "stream",
     "text": [
      "Player Anders playerd  1000.00, and player Brian played  1000.00\n"
     ]
    }
   ],
   "source": [
    "G.play_round(DOPRINT=True)"
   ]
  },
  {
   "cell_type": "markdown",
   "metadata": {},
   "source": [
    "Play the game 60 more times"
   ]
  },
  {
   "cell_type": "code",
   "execution_count": 8,
   "metadata": {},
   "outputs": [],
   "source": [
    "for t in range(60): \n",
    "    G.play_round(DOPRINT=False)"
   ]
  },
  {
   "cell_type": "markdown",
   "metadata": {},
   "source": [
    "Find out who won the many rounds of the repeated game"
   ]
  },
  {
   "cell_type": "code",
   "execution_count": 9,
   "metadata": {},
   "outputs": [
    {
     "name": "stdout",
     "output_type": "stream",
     "text": [
      "Anders wins!\n"
     ]
    }
   ],
   "source": [
    "i_winner = G.declare_winner()"
   ]
  },
  {
   "cell_type": "code",
   "execution_count": 6,
   "metadata": {},
   "outputs": [
    {
     "data": {
      "image/png": "[encoded data removed]",
      "text/plain": [
       "<Figure size 432x288 with 1 Axes>"
      ]
     },
     "metadata": {
      "needs_background": "light"
     },
     "output_type": "display_data"
    }
   ],
   "source": [
    "plt.plot(np.array(G.history)); \n",
    "plt.title(G.name); \n",
    "plt.xlabel('Period'); \n",
    "plt.ylabel('Price (action)'); "
   ]
  }
 ],
 "metadata": {
  "kernelspec": {
   "display_name": "Python 3",
   "language": "python",
   "name": "python3"
  },
  "language_info": {
   "codemirror_mode": {
    "name": "ipython",
    "version": 3
   },
   "file_extension": ".py",
   "mimetype": "text/x-python",
   "name": "python",
   "nbconvert_exporter": "python",
   "pygments_lexer": "ipython3",
   "version": "3.8.9"
  },
  "metadata": {
   "interpreter": {
    "hash": "ad5c488ef884092bfd34878cf301cc09e8d4cd9f5059bb79de1fdcf3aa591d91"
   }
  }
 },
 "nbformat": 4,
 "nbformat_minor": 4
}
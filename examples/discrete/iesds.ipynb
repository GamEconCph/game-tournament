{
 "cells": [
  {
   "cell_type": "markdown",
   "metadata": {},
   "source": [
    "# Iterated Elimination of Strictly Dominated Strategies "
   ]
  },
  {
   "cell_type": "code",
   "execution_count": 1,
   "metadata": {},
   "outputs": [],
   "source": [
    "from gt import IESDS, print_payoffs, find_undominated_actions\r\n",
    "import numpy as np \r\n",
    "from brian import brian \r\n",
    "from game import game \r\n",
    "from anders import anders"
   ]
  },
  {
   "cell_type": "markdown",
   "metadata": {},
   "source": [
    "Game setup"
   ]
  },
  {
   "cell_type": "code",
   "execution_count": 2,
   "metadata": {},
   "outputs": [
    {
     "data": {
      "text/html": [
       "<div>\n",
       "<style scoped>\n",
       "    .dataframe tbody tr th:only-of-type {\n",
       "        vertical-align: middle;\n",
       "    }\n",
       "\n",
       "    .dataframe tbody tr th {\n",
       "        vertical-align: top;\n",
       "    }\n",
       "\n",
       "    .dataframe thead th {\n",
       "        text-align: right;\n",
       "    }\n",
       "</style>\n",
       "<table border=\"1\" class=\"dataframe\">\n",
       "  <thead>\n",
       "    <tr style=\"text-align: right;\">\n",
       "      <th></th>\n",
       "      <th>L</th>\n",
       "      <th>C</th>\n",
       "      <th>R</th>\n",
       "    </tr>\n",
       "  </thead>\n",
       "  <tbody>\n",
       "    <tr>\n",
       "      <th>U</th>\n",
       "      <td>(5, 0)</td>\n",
       "      <td>(3, 4)</td>\n",
       "      <td>(2, 2)</td>\n",
       "    </tr>\n",
       "    <tr>\n",
       "      <th>M</th>\n",
       "      <td>(3, 3)</td>\n",
       "      <td>(2, 2)</td>\n",
       "      <td>(1, 1)</td>\n",
       "    </tr>\n",
       "    <tr>\n",
       "      <th>D</th>\n",
       "      <td>(1, 1)</td>\n",
       "      <td>(3, 1)</td>\n",
       "      <td>(0, 5)</td>\n",
       "    </tr>\n",
       "  </tbody>\n",
       "</table>\n",
       "</div>"
      ],
      "text/plain": [
       "        L       C       R\n",
       "U  (5, 0)  (3, 4)  (2, 2)\n",
       "M  (3, 3)  (2, 2)  (1, 1)\n",
       "D  (1, 1)  (3, 1)  (0, 5)"
      ]
     },
     "execution_count": 2,
     "metadata": {},
     "output_type": "execute_result"
    }
   ],
   "source": [
    "U1 = np.array([[5,3,1], [3,2,3], [2,1,0]])\r\n",
    "U2 = np.array([[0,3,1], [4,2,1], [2,1,5]])\r\n",
    "\r\n",
    "A1 = ['U', 'M', 'D']\r\n",
    "A2 = ['L', 'C', 'R']\r\n",
    "\r\n",
    "print_payoffs(U1, U2, A1, A2)"
   ]
  },
  {
   "cell_type": "markdown",
   "metadata": {},
   "source": [
    "These are the functions that will be working at the core of the IESDS algorithm. "
   ]
  },
  {
   "cell_type": "code",
   "execution_count": 3,
   "metadata": {},
   "outputs": [
    {
     "data": {
      "text/plain": [
       "(['L', 'C', 'R'], [0, 1, 2], False)"
      ]
     },
     "execution_count": 3,
     "metadata": {},
     "output_type": "execute_result"
    }
   ],
   "source": [
    "find_undominated_actions(U1, 0, A1)\r\n",
    "find_undominated_actions(U2, 1, A2)"
   ]
  },
  {
   "cell_type": "markdown",
   "metadata": {},
   "source": [
    "Run the Iterated Elimination of Strictly Dominated Strategies: "
   ]
  },
  {
   "cell_type": "code",
   "execution_count": 4,
   "metadata": {},
   "outputs": [
    {
     "name": "stdout",
     "output_type": "stream",
     "text": [
      "Player 1: D is dominated by U\n",
      "Player 2: R is dominated by C\n",
      "Player 1: M is dominated by U\n",
      "Player 2: L is dominated by C\n"
     ]
    }
   ],
   "source": [
    "A, U = IESDS([A1, A2], [U1, U2], DOPRINT=True)"
   ]
  },
  {
   "cell_type": "markdown",
   "metadata": {},
   "source": [
    "Show the game after we have eliminated strictly dominated strategies "
   ]
  },
  {
   "cell_type": "code",
   "execution_count": 5,
   "metadata": {},
   "outputs": [
    {
     "data": {
      "text/html": [
       "<div>\n",
       "<style scoped>\n",
       "    .dataframe tbody tr th:only-of-type {\n",
       "        vertical-align: middle;\n",
       "    }\n",
       "\n",
       "    .dataframe tbody tr th {\n",
       "        vertical-align: top;\n",
       "    }\n",
       "\n",
       "    .dataframe thead th {\n",
       "        text-align: right;\n",
       "    }\n",
       "</style>\n",
       "<table border=\"1\" class=\"dataframe\">\n",
       "  <thead>\n",
       "    <tr style=\"text-align: right;\">\n",
       "      <th></th>\n",
       "      <th>C</th>\n",
       "    </tr>\n",
       "  </thead>\n",
       "  <tbody>\n",
       "    <tr>\n",
       "      <th>U</th>\n",
       "      <td>(3, 3)</td>\n",
       "    </tr>\n",
       "  </tbody>\n",
       "</table>\n",
       "</div>"
      ],
      "text/plain": [
       "        C\n",
       "U  (3, 3)"
      ]
     },
     "execution_count": 5,
     "metadata": {},
     "output_type": "execute_result"
    }
   ],
   "source": [
    "print_payoffs(U[0], U[1], A[0], A[1])"
   ]
  },
  {
   "cell_type": "markdown",
   "metadata": {},
   "source": [
    "# Set up game"
   ]
  },
  {
   "cell_type": "code",
   "execution_count": 6,
   "metadata": {},
   "outputs": [
    {
     "data": {
      "text/html": [
       "<div>\n",
       "<style scoped>\n",
       "    .dataframe tbody tr th:only-of-type {\n",
       "        vertical-align: middle;\n",
       "    }\n",
       "\n",
       "    .dataframe tbody tr th {\n",
       "        vertical-align: top;\n",
       "    }\n",
       "\n",
       "    .dataframe thead th {\n",
       "        text-align: right;\n",
       "    }\n",
       "</style>\n",
       "<table border=\"1\" class=\"dataframe\">\n",
       "  <thead>\n",
       "    <tr style=\"text-align: right;\">\n",
       "      <th></th>\n",
       "      <th>L</th>\n",
       "      <th>C</th>\n",
       "      <th>R</th>\n",
       "    </tr>\n",
       "  </thead>\n",
       "  <tbody>\n",
       "    <tr>\n",
       "      <th>U</th>\n",
       "      <td>(5, 0)</td>\n",
       "      <td>(3, 4)</td>\n",
       "      <td>(2, 2)</td>\n",
       "    </tr>\n",
       "    <tr>\n",
       "      <th>M</th>\n",
       "      <td>(3, 3)</td>\n",
       "      <td>(2, 2)</td>\n",
       "      <td>(1, 1)</td>\n",
       "    </tr>\n",
       "    <tr>\n",
       "      <th>D</th>\n",
       "      <td>(1, 1)</td>\n",
       "      <td>(3, 1)</td>\n",
       "      <td>(0, 5)</td>\n",
       "    </tr>\n",
       "  </tbody>\n",
       "</table>\n",
       "</div>"
      ],
      "text/plain": [
       "        L       C       R\n",
       "U  (5, 0)  (3, 4)  (2, 2)\n",
       "M  (3, 3)  (2, 2)  (1, 1)\n",
       "D  (1, 1)  (3, 1)  (0, 5)"
      ]
     },
     "execution_count": 6,
     "metadata": {},
     "output_type": "execute_result"
    }
   ],
   "source": [
    "U1 = np.array([[5,3,1], [3,2,3], [2,1,0]])\r\n",
    "U2 = np.array([[0,3,1], [4,2,1], [2,1,5]])\r\n",
    "\r\n",
    "A1 = ['U', 'M', 'D']\r\n",
    "A2 = ['L', 'C', 'R']\r\n",
    "\r\n",
    "print_payoffs(U1, U2, A1, A2)"
   ]
  },
  {
   "cell_type": "code",
   "execution_count": 7,
   "metadata": {},
   "outputs": [],
   "source": [
    "b = brian('Brian')   # an IESDS player (choosing randomly among surviving strategies)\n",
    "a = anders('Anders') # a level 1 cognitive hierarchy player \n",
    "G = game(a,b,U1,U2,action_names=[A1,A2])"
   ]
  },
  {
   "cell_type": "markdown",
   "metadata": {},
   "source": [
    "Anders as player 1"
   ]
  },
  {
   "cell_type": "code",
   "execution_count": 8,
   "metadata": {},
   "outputs": [
    {
     "name": "stdout",
     "output_type": "stream",
     "text": [
      "Anders played M getting 2.0\n",
      "Brian played C getting 2.0\n"
     ]
    }
   ],
   "source": [
    "G.play_round(DOPRINT=True)"
   ]
  },
  {
   "cell_type": "markdown",
   "metadata": {},
   "source": [
    "Brian as player 1"
   ]
  },
  {
   "cell_type": "code",
   "execution_count": 9,
   "metadata": {},
   "outputs": [],
   "source": [
    "G2 = game(b,a,U1,U2,action_names=[A1,A2])"
   ]
  },
  {
   "cell_type": "code",
   "execution_count": 10,
   "metadata": {},
   "outputs": [
    {
     "name": "stdout",
     "output_type": "stream",
     "text": [
      "Brian played U getting 3.0\n",
      "Anders played C getting 3.0\n"
     ]
    }
   ],
   "source": [
    "G2.play_round(DOPRINT=True)"
   ]
  },
  {
   "cell_type": "markdown",
   "metadata": {},
   "source": [
    "**Determine winner** by playing the game $T=1$ times. (It may be able to play $T>1$ times if either of the player uses some kind of randomization to pick their move.) "
   ]
  },
  {
   "cell_type": "code",
   "execution_count": 11,
   "metadata": {},
   "outputs": [
    {
     "name": "stdout",
     "output_type": "stream",
     "text": [
      "Brian won!\n"
     ]
    }
   ],
   "source": [
    "i_win = G.declare_winner(T=1)"
   ]
  }
 ],
 "metadata": {
  "kernelspec": {
   "display_name": "Python 3",
   "language": "python",
   "name": "python3"
  },
  "language_info": {
   "name": "python",
   "version": ""
  }
 },
 "nbformat": 4,
 "nbformat_minor": 4
}
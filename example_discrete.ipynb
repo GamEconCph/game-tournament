{
 "cells": [
  {
   "cell_type": "markdown",
   "metadata": {},
   "source": [
    "\n",
    "# Example: Bimatrix Game\n",
    "\n",
    "This notebook provides example code to make it easier to write a player function. \n",
    "\n",
    "* Write player functions, `player1.py`, `player2.py`, ... in the folder `./players/`. \n",
    "* Run this notebook: it will automatically read them all."
   ]
  },
  {
   "cell_type": "code",
   "execution_count": 1,
   "metadata": {},
   "outputs": [],
   "source": [
    "from game_tournament.game import DiscreteGame, Tournament\n",
    "import numpy as np \n",
    "import matplotlib.pyplot as plt \n",
    "import pandas as pd \n",
    "\n",
    "%load_ext autoreload\n",
    "%autoreload 2 "
   ]
  },
  {
   "cell_type": "markdown",
   "metadata": {},
   "source": [
    " Convenient function for printing payoffs in bimatrix games "
   ]
  },
  {
   "cell_type": "code",
   "execution_count": 2,
   "metadata": {},
   "outputs": [],
   "source": [
    "def print_payoffs(U1, U2, A1, A2): \n",
    "    '''print_payoffs: \n",
    "    Args \n",
    "        U1, U2: (na1,na2) arrays of payoffs \n",
    "        A1: na1 list of strings: labels for actions for player 1 \n",
    "        A2: na2 list of strings: labels for actions for player 2\n",
    "    '''\n",
    "    na1,na2 = U1.shape \n",
    "\n",
    "    # \"matrix\" of tuples \n",
    "    X = [[(U1[r,c],U2[r,c]) for c in range(na2)] for r in range(na1)]\n",
    "\n",
    "    # dataframe version \n",
    "    tab = pd.DataFrame(X, columns=A2, index=A1)\n",
    "\n",
    "    return tab "
   ]
  },
  {
   "cell_type": "markdown",
   "metadata": {},
   "source": [
    "# Reading in player modules "
   ]
  },
  {
   "cell_type": "code",
   "execution_count": 3,
   "metadata": {},
   "outputs": [],
   "source": [
    "# path to where player functions should be located for this game \n",
    "player_path = './examples/players_discrete/'"
   ]
  },
  {
   "cell_type": "markdown",
   "metadata": {},
   "source": [
    "# A Bimatrix Game\n",
    "\n",
    "`U1` and `U2` are the payoff matrices for the bimatrix game that we want to work with in this notebook. "
   ]
  },
  {
   "cell_type": "code",
   "execution_count": 4,
   "metadata": {},
   "outputs": [
    {
     "data": {
      "text/html": [
       "<div>\n",
       "<style scoped>\n",
       "    .dataframe tbody tr th:only-of-type {\n",
       "        vertical-align: middle;\n",
       "    }\n",
       "\n",
       "    .dataframe tbody tr th {\n",
       "        vertical-align: top;\n",
       "    }\n",
       "\n",
       "    .dataframe thead th {\n",
       "        text-align: right;\n",
       "    }\n",
       "</style>\n",
       "<table border=\"1\" class=\"dataframe\">\n",
       "  <thead>\n",
       "    <tr style=\"text-align: right;\">\n",
       "      <th></th>\n",
       "      <th>L</th>\n",
       "      <th>C</th>\n",
       "      <th>R</th>\n",
       "    </tr>\n",
       "  </thead>\n",
       "  <tbody>\n",
       "    <tr>\n",
       "      <th>U</th>\n",
       "      <td>(5, 0)</td>\n",
       "      <td>(3, 3)</td>\n",
       "      <td>(1, 1)</td>\n",
       "    </tr>\n",
       "    <tr>\n",
       "      <th>M</th>\n",
       "      <td>(3, 4)</td>\n",
       "      <td>(2, 2)</td>\n",
       "      <td>(3, 1)</td>\n",
       "    </tr>\n",
       "    <tr>\n",
       "      <th>D</th>\n",
       "      <td>(2, 2)</td>\n",
       "      <td>(1, 1)</td>\n",
       "      <td>(0, 5)</td>\n",
       "    </tr>\n",
       "  </tbody>\n",
       "</table>\n",
       "</div>"
      ],
      "text/plain": [
       "        L       C       R\n",
       "U  (5, 0)  (3, 3)  (1, 1)\n",
       "M  (3, 4)  (2, 2)  (3, 1)\n",
       "D  (2, 2)  (1, 1)  (0, 5)"
      ]
     },
     "execution_count": 4,
     "metadata": {},
     "output_type": "execute_result"
    }
   ],
   "source": [
    "np.random.seed(1337)\n",
    "U1 = np.array([[5, 3, 1], [3, 2, 3], [2, 1, 0]])\n",
    "U2 = np.array([[0, 3, 1], [4, 2, 1], [2, 1, 5]])\n",
    "\n",
    "A1 = [\"U\", \"M\", \"D\"]\n",
    "A2 = [\"L\", \"C\", \"R\"]\n",
    "\n",
    "print_payoffs(U1, U2, A1, A2)"
   ]
  },
  {
   "cell_type": "markdown",
   "metadata": {},
   "source": [
    "# A single game\n",
    "\n",
    "We will first set up a single game and play it between two directly imported player functions."
   ]
  },
  {
   "cell_type": "code",
   "execution_count": 5,
   "metadata": {},
   "outputs": [
    {
     "name": "stdout",
     "output_type": "stream",
     "text": [
      "Player 1: 1st order\n",
      "Player 2: 2nd order\n"
     ]
    }
   ],
   "source": [
    "# let us import the two player functions, saved in the folder './players_discrete/' \n",
    "# with the filenames 'player1.py' and 'player2.py'. \n",
    "from examples.players_discrete.player1 import player as player1\n",
    "from examples.players_discrete.player2 import player as player2\n",
    "print(f'Player 1: {player1.name}')\n",
    "print(f'Player 2: {player2.name}')"
   ]
  },
  {
   "cell_type": "code",
   "execution_count": 6,
   "metadata": {},
   "outputs": [
    {
     "name": "stdout",
     "output_type": "stream",
     "text": [
      "1st order vs. 2nd order: played 0 rounds\n"
     ]
    }
   ],
   "source": [
    "# initialize instances of two player functions\n",
    "# (which we imported earlier)\n",
    "p1 = player1()\n",
    "p2 = player2()\n",
    "\n",
    "G = DiscreteGame(p1, p2, U1, U2)\n",
    "print(G)"
   ]
  },
  {
   "cell_type": "code",
   "execution_count": 7,
   "metadata": {},
   "outputs": [
    {
     "data": {
      "text/plain": [
       "array([], shape=(0, 2), dtype=int64)"
      ]
     },
     "execution_count": 7,
     "metadata": {},
     "output_type": "execute_result"
    }
   ],
   "source": [
    "# before the game is played, the history is empty \n",
    "G.history"
   ]
  },
  {
   "cell_type": "code",
   "execution_count": 8,
   "metadata": {},
   "outputs": [
    {
     "data": {
      "text/plain": [
       "array([[0, 1],\n",
       "       [0, 1]])"
      ]
     },
     "execution_count": 8,
     "metadata": {},
     "output_type": "execute_result"
    }
   ],
   "source": [
    "T = 2 # the number of rounds played of the game (repetitions of the static game to eliminate simulation noise)\n",
    "G.play_game(T) # this populates the \"history\" property \n",
    "G.history # now history is (N,2): a row per round and column per player"
   ]
  },
  {
   "cell_type": "code",
   "execution_count": 9,
   "metadata": {},
   "outputs": [
    {
     "data": {
      "text/html": [
       "<div>\n",
       "<style scoped>\n",
       "    .dataframe tbody tr th:only-of-type {\n",
       "        vertical-align: middle;\n",
       "    }\n",
       "\n",
       "    .dataframe tbody tr th {\n",
       "        vertical-align: top;\n",
       "    }\n",
       "\n",
       "    .dataframe thead tr th {\n",
       "        text-align: left;\n",
       "    }\n",
       "\n",
       "    .dataframe thead tr:last-of-type th {\n",
       "        text-align: right;\n",
       "    }\n",
       "</style>\n",
       "<table border=\"1\" class=\"dataframe\">\n",
       "  <thead>\n",
       "    <tr>\n",
       "      <th></th>\n",
       "      <th colspan=\"2\" halign=\"left\">actions</th>\n",
       "      <th colspan=\"2\" halign=\"left\">payoffs</th>\n",
       "    </tr>\n",
       "    <tr>\n",
       "      <th></th>\n",
       "      <th>1st order</th>\n",
       "      <th>2nd order</th>\n",
       "      <th>1st order</th>\n",
       "      <th>2nd order</th>\n",
       "    </tr>\n",
       "    <tr>\n",
       "      <th>Round</th>\n",
       "      <th></th>\n",
       "      <th></th>\n",
       "      <th></th>\n",
       "      <th></th>\n",
       "    </tr>\n",
       "  </thead>\n",
       "  <tbody>\n",
       "    <tr>\n",
       "      <th>0</th>\n",
       "      <td>0</td>\n",
       "      <td>1</td>\n",
       "      <td>3.0</td>\n",
       "      <td>3.0</td>\n",
       "    </tr>\n",
       "    <tr>\n",
       "      <th>1</th>\n",
       "      <td>0</td>\n",
       "      <td>1</td>\n",
       "      <td>3.0</td>\n",
       "      <td>3.0</td>\n",
       "    </tr>\n",
       "  </tbody>\n",
       "</table>\n",
       "</div>"
      ],
      "text/plain": [
       "        actions             payoffs          \n",
       "      1st order 2nd order 1st order 2nd order\n",
       "Round                                        \n",
       "0             0         1       3.0       3.0\n",
       "1             0         1       3.0       3.0"
      ]
     },
     "execution_count": 9,
     "metadata": {},
     "output_type": "execute_result"
    }
   ],
   "source": [
    "G.get_game_actions_and_payoffs() # we can use a function to print the history in a pandas dataframe"
   ]
  },
  {
   "cell_type": "code",
   "execution_count": 10,
   "metadata": {},
   "outputs": [
    {
     "data": {
      "text/plain": [
       "array([3., 3.])"
      ]
     },
     "execution_count": 10,
     "metadata": {},
     "output_type": "execute_result"
    }
   ],
   "source": [
    "G.score_game()"
   ]
  },
  {
   "cell_type": "code",
   "execution_count": 11,
   "metadata": {},
   "outputs": [
    {
     "name": "stdout",
     "output_type": "stream",
     "text": [
      "1st order vs. 2nd order: played 2 rounds\n"
     ]
    }
   ],
   "source": [
    "print(G) "
   ]
  },
  {
   "cell_type": "markdown",
   "metadata": {},
   "source": [
    "# Running a tournament \n",
    "\n",
    "By default, the `Tournament` object will read all the `.py` files located in the folder `player_path` and run an \"all-play-all\" tournament between all combinations of players. Inside the tournament instance, `t`, it will store \n",
    "* `t.games`: a list of all the games that have been played. \n",
    "\n",
    "Each game is exactly as above, so e.g. it has a history, `t.games[0].history`, and we can use the same functions as above, e.g. `t.games[0].get_game_actions_and_payoffs()`. "
   ]
  },
  {
   "cell_type": "code",
   "execution_count": 12,
   "metadata": {},
   "outputs": [
    {
     "name": "stderr",
     "output_type": "stream",
     "text": [
      "3it [00:00, 86.60it/s]"
     ]
    },
    {
     "name": "stdout",
     "output_type": "stream",
     "text": [
      "Tournament winner was: 1st order (against 2 opponents)\n"
     ]
    },
    {
     "name": "stderr",
     "output_type": "stream",
     "text": [
      "\n"
     ]
    },
    {
     "data": {
      "text/html": [
       "<div>\n",
       "<style scoped>\n",
       "    .dataframe tbody tr th:only-of-type {\n",
       "        vertical-align: middle;\n",
       "    }\n",
       "\n",
       "    .dataframe tbody tr th {\n",
       "        vertical-align: top;\n",
       "    }\n",
       "\n",
       "    .dataframe thead th {\n",
       "        text-align: right;\n",
       "    }\n",
       "</style>\n",
       "<table border=\"1\" class=\"dataframe\">\n",
       "  <thead>\n",
       "    <tr style=\"text-align: right;\">\n",
       "      <th></th>\n",
       "      <th>A 3x3 Game</th>\n",
       "    </tr>\n",
       "    <tr>\n",
       "      <th>Player</th>\n",
       "      <th></th>\n",
       "    </tr>\n",
       "  </thead>\n",
       "  <tbody>\n",
       "    <tr>\n",
       "      <th>1st order</th>\n",
       "      <td>3.020</td>\n",
       "    </tr>\n",
       "    <tr>\n",
       "      <th>2nd order</th>\n",
       "      <td>2.445</td>\n",
       "    </tr>\n",
       "    <tr>\n",
       "      <th>Randawg</th>\n",
       "      <td>1.590</td>\n",
       "    </tr>\n",
       "  </tbody>\n",
       "</table>\n",
       "</div>"
      ],
      "text/plain": [
       "           A 3x3 Game\n",
       "Player               \n",
       "1st order       3.020\n",
       "2nd order       2.445\n",
       "Randawg         1.590"
      ]
     },
     "execution_count": 12,
     "metadata": {},
     "output_type": "execute_result"
    }
   ],
   "source": [
    "T = 100 # we can repeat each matchup many times to smooth out any randomness from player functions\n",
    "game_data = {'U1':U1, 'U2':U2}\n",
    "t = Tournament(player_path, DiscreteGame, game_data=game_data, T=T, tournament_name='A 3x3 Game')\n",
    "t.run() # run the tournament"
   ]
  },
  {
   "cell_type": "code",
   "execution_count": 13,
   "metadata": {},
   "outputs": [
    {
     "data": {
      "text/html": [
       "<div>\n",
       "<style scoped>\n",
       "    .dataframe tbody tr th:only-of-type {\n",
       "        vertical-align: middle;\n",
       "    }\n",
       "\n",
       "    .dataframe tbody tr th {\n",
       "        vertical-align: top;\n",
       "    }\n",
       "\n",
       "    .dataframe thead th {\n",
       "        text-align: right;\n",
       "    }\n",
       "</style>\n",
       "<table border=\"1\" class=\"dataframe\">\n",
       "  <thead>\n",
       "    <tr style=\"text-align: right;\">\n",
       "      <th>Opponent</th>\n",
       "      <th>1st order</th>\n",
       "      <th>Randawg</th>\n",
       "      <th>2nd order</th>\n",
       "    </tr>\n",
       "    <tr>\n",
       "      <th>Player</th>\n",
       "      <th></th>\n",
       "      <th></th>\n",
       "      <th></th>\n",
       "    </tr>\n",
       "  </thead>\n",
       "  <tbody>\n",
       "    <tr>\n",
       "      <th>1st order</th>\n",
       "      <td>NaN</td>\n",
       "      <td>3.04</td>\n",
       "      <td>3.00</td>\n",
       "    </tr>\n",
       "    <tr>\n",
       "      <th>Randawg</th>\n",
       "      <td>1.29</td>\n",
       "      <td>NaN</td>\n",
       "      <td>1.89</td>\n",
       "    </tr>\n",
       "    <tr>\n",
       "      <th>2nd order</th>\n",
       "      <td>3.00</td>\n",
       "      <td>1.89</td>\n",
       "      <td>NaN</td>\n",
       "    </tr>\n",
       "  </tbody>\n",
       "</table>\n",
       "</div>"
      ],
      "text/plain": [
       "Opponent   1st order  Randawg  2nd order\n",
       "Player                                  \n",
       "1st order        NaN     3.04       3.00\n",
       "Randawg         1.29      NaN       1.89\n",
       "2nd order       3.00     1.89        NaN"
      ]
     },
     "execution_count": 13,
     "metadata": {},
     "output_type": "execute_result"
    }
   ],
   "source": [
    "# take a look at the individual matchups of player functions \n",
    "match_results = t.get_matchup_results()\n",
    "match_results"
   ]
  },
  {
   "cell_type": "code",
   "execution_count": 14,
   "metadata": {},
   "outputs": [
    {
     "data": {
      "text/html": [
       "<div>\n",
       "<style scoped>\n",
       "    .dataframe tbody tr th:only-of-type {\n",
       "        vertical-align: middle;\n",
       "    }\n",
       "\n",
       "    .dataframe tbody tr th {\n",
       "        vertical-align: top;\n",
       "    }\n",
       "\n",
       "    .dataframe thead th {\n",
       "        text-align: right;\n",
       "    }\n",
       "</style>\n",
       "<table border=\"1\" class=\"dataframe\">\n",
       "  <thead>\n",
       "    <tr style=\"text-align: right;\">\n",
       "      <th></th>\n",
       "      <th>A 3x3 Game</th>\n",
       "    </tr>\n",
       "    <tr>\n",
       "      <th>Player</th>\n",
       "      <th></th>\n",
       "    </tr>\n",
       "  </thead>\n",
       "  <tbody>\n",
       "    <tr>\n",
       "      <th>1st order</th>\n",
       "      <td>3.020</td>\n",
       "    </tr>\n",
       "    <tr>\n",
       "      <th>2nd order</th>\n",
       "      <td>2.445</td>\n",
       "    </tr>\n",
       "    <tr>\n",
       "      <th>Randawg</th>\n",
       "      <td>1.590</td>\n",
       "    </tr>\n",
       "  </tbody>\n",
       "</table>\n",
       "</div>"
      ],
      "text/plain": [
       "           A 3x3 Game\n",
       "Player               \n",
       "1st order       3.020\n",
       "2nd order       2.445\n",
       "Randawg         1.590"
      ]
     },
     "execution_count": 14,
     "metadata": {},
     "output_type": "execute_result"
    }
   ],
   "source": [
    "t.scoreboard()"
   ]
  },
  {
   "cell_type": "markdown",
   "metadata": {},
   "source": [
    "## Exploring individual games of the tournament\n",
    "\n",
    "We can access the individual games in the tournament afterwards, stored as the list `tournament.games`. For debugging purposes, it may be useful to access the play to verify that your function is doing what you expect it to. "
   ]
  },
  {
   "cell_type": "code",
   "execution_count": 15,
   "metadata": {},
   "outputs": [
    {
     "name": "stdout",
     "output_type": "stream",
     "text": [
      "Matchups in tournament\n",
      "0: 1st order vs. Randawg\n",
      "1: 1st order vs. 2nd order\n",
      "2: Randawg vs. 2nd order\n",
      "Printing game info for i=0: 1st order vs. Randawg\n"
     ]
    },
    {
     "data": {
      "text/html": [
       "<div>\n",
       "<style scoped>\n",
       "    .dataframe tbody tr th:only-of-type {\n",
       "        vertical-align: middle;\n",
       "    }\n",
       "\n",
       "    .dataframe tbody tr th {\n",
       "        vertical-align: top;\n",
       "    }\n",
       "\n",
       "    .dataframe thead tr th {\n",
       "        text-align: left;\n",
       "    }\n",
       "\n",
       "    .dataframe thead tr:last-of-type th {\n",
       "        text-align: right;\n",
       "    }\n",
       "</style>\n",
       "<table border=\"1\" class=\"dataframe\">\n",
       "  <thead>\n",
       "    <tr>\n",
       "      <th></th>\n",
       "      <th colspan=\"2\" halign=\"left\">actions</th>\n",
       "      <th colspan=\"2\" halign=\"left\">payoffs</th>\n",
       "    </tr>\n",
       "    <tr>\n",
       "      <th></th>\n",
       "      <th>1st order</th>\n",
       "      <th>Randawg</th>\n",
       "      <th>1st order</th>\n",
       "      <th>Randawg</th>\n",
       "    </tr>\n",
       "    <tr>\n",
       "      <th>Round</th>\n",
       "      <th></th>\n",
       "      <th></th>\n",
       "      <th></th>\n",
       "      <th></th>\n",
       "    </tr>\n",
       "  </thead>\n",
       "  <tbody>\n",
       "    <tr>\n",
       "      <th>0</th>\n",
       "      <td>0</td>\n",
       "      <td>1</td>\n",
       "      <td>3.0</td>\n",
       "      <td>3.0</td>\n",
       "    </tr>\n",
       "    <tr>\n",
       "      <th>1</th>\n",
       "      <td>0</td>\n",
       "      <td>0</td>\n",
       "      <td>5.0</td>\n",
       "      <td>0.0</td>\n",
       "    </tr>\n",
       "    <tr>\n",
       "      <th>2</th>\n",
       "      <td>0</td>\n",
       "      <td>0</td>\n",
       "      <td>5.0</td>\n",
       "      <td>0.0</td>\n",
       "    </tr>\n",
       "    <tr>\n",
       "      <th>3</th>\n",
       "      <td>0</td>\n",
       "      <td>1</td>\n",
       "      <td>3.0</td>\n",
       "      <td>3.0</td>\n",
       "    </tr>\n",
       "    <tr>\n",
       "      <th>4</th>\n",
       "      <td>0</td>\n",
       "      <td>2</td>\n",
       "      <td>1.0</td>\n",
       "      <td>1.0</td>\n",
       "    </tr>\n",
       "    <tr>\n",
       "      <th>...</th>\n",
       "      <td>...</td>\n",
       "      <td>...</td>\n",
       "      <td>...</td>\n",
       "      <td>...</td>\n",
       "    </tr>\n",
       "    <tr>\n",
       "      <th>95</th>\n",
       "      <td>0</td>\n",
       "      <td>2</td>\n",
       "      <td>1.0</td>\n",
       "      <td>1.0</td>\n",
       "    </tr>\n",
       "    <tr>\n",
       "      <th>96</th>\n",
       "      <td>0</td>\n",
       "      <td>2</td>\n",
       "      <td>1.0</td>\n",
       "      <td>1.0</td>\n",
       "    </tr>\n",
       "    <tr>\n",
       "      <th>97</th>\n",
       "      <td>0</td>\n",
       "      <td>2</td>\n",
       "      <td>1.0</td>\n",
       "      <td>1.0</td>\n",
       "    </tr>\n",
       "    <tr>\n",
       "      <th>98</th>\n",
       "      <td>0</td>\n",
       "      <td>1</td>\n",
       "      <td>3.0</td>\n",
       "      <td>3.0</td>\n",
       "    </tr>\n",
       "    <tr>\n",
       "      <th>99</th>\n",
       "      <td>0</td>\n",
       "      <td>2</td>\n",
       "      <td>1.0</td>\n",
       "      <td>1.0</td>\n",
       "    </tr>\n",
       "  </tbody>\n",
       "</table>\n",
       "<p>100 rows × 4 columns</p>\n",
       "</div>"
      ],
      "text/plain": [
       "        actions           payoffs        \n",
       "      1st order Randawg 1st order Randawg\n",
       "Round                                    \n",
       "0             0       1       3.0     3.0\n",
       "1             0       0       5.0     0.0\n",
       "2             0       0       5.0     0.0\n",
       "3             0       1       3.0     3.0\n",
       "4             0       2       1.0     1.0\n",
       "...         ...     ...       ...     ...\n",
       "95            0       2       1.0     1.0\n",
       "96            0       2       1.0     1.0\n",
       "97            0       2       1.0     1.0\n",
       "98            0       1       3.0     3.0\n",
       "99            0       2       1.0     1.0\n",
       "\n",
       "[100 rows x 4 columns]"
      ]
     },
     "execution_count": 15,
     "metadata": {},
     "output_type": "execute_result"
    }
   ],
   "source": [
    "print(f'Matchups in tournament')\n",
    "for i,g in enumerate(t.games): \n",
    "    print(f'{i}: {g.name}')\n",
    "\n",
    "i = 0 # <--- choose a game here \n",
    "g = t.games[0]\n",
    "print(f'Printing game info for {i=}: {g.name}')\n",
    "g.get_game_actions_and_payoffs()"
   ]
  }
 ],
 "metadata": {
  "kernelspec": {
   "display_name": "Python 3",
   "language": "python",
   "name": "python3"
  },
  "language_info": {
   "codemirror_mode": {
    "name": "ipython",
    "version": 3
   },
   "file_extension": ".py",
   "mimetype": "text/x-python",
   "name": "python",
   "nbconvert_exporter": "python",
   "pygments_lexer": "ipython3",
   "version": "3.8.2"
  }
 },
 "nbformat": 4,
 "nbformat_minor": 4
}
